{
 "cells": [
  {
   "cell_type": "markdown",
   "id": "db74ef38",
   "metadata": {},
   "source": [
    "# Data Transformation and Clean"
   ]
  },
  {
   "cell_type": "markdown",
   "id": "0748a806",
   "metadata": {},
   "source": [
    "#### Read the downloaded data"
   ]
  },
  {
   "cell_type": "code",
   "execution_count": 40,
   "id": "5baf26ce",
   "metadata": {},
   "outputs": [
    {
     "data": {
      "text/html": [
       "<div>\n",
       "<style scoped>\n",
       "    .dataframe tbody tr th:only-of-type {\n",
       "        vertical-align: middle;\n",
       "    }\n",
       "\n",
       "    .dataframe tbody tr th {\n",
       "        vertical-align: top;\n",
       "    }\n",
       "\n",
       "    .dataframe thead th {\n",
       "        text-align: right;\n",
       "    }\n",
       "</style>\n",
       "<table border=\"1\" class=\"dataframe\">\n",
       "  <thead>\n",
       "    <tr style=\"text-align: right;\">\n",
       "      <th></th>\n",
       "      <th>Age</th>\n",
       "      <th>Sex</th>\n",
       "      <th>ChestPainType</th>\n",
       "      <th>RestingBP</th>\n",
       "      <th>Cholesterol</th>\n",
       "      <th>FastingBS</th>\n",
       "      <th>RestingECG</th>\n",
       "      <th>MaxHR</th>\n",
       "      <th>ExerciseAngina</th>\n",
       "      <th>Oldpeak</th>\n",
       "      <th>ST_Slope</th>\n",
       "      <th>label</th>\n",
       "    </tr>\n",
       "  </thead>\n",
       "  <tbody>\n",
       "    <tr>\n",
       "      <th>0</th>\n",
       "      <td>40</td>\n",
       "      <td>M</td>\n",
       "      <td>ATA</td>\n",
       "      <td>140</td>\n",
       "      <td>289</td>\n",
       "      <td>0</td>\n",
       "      <td>Normal</td>\n",
       "      <td>172</td>\n",
       "      <td>N</td>\n",
       "      <td>0.0</td>\n",
       "      <td>Up</td>\n",
       "      <td>0</td>\n",
       "    </tr>\n",
       "    <tr>\n",
       "      <th>1</th>\n",
       "      <td>49</td>\n",
       "      <td>F</td>\n",
       "      <td>NAP</td>\n",
       "      <td>160</td>\n",
       "      <td>180</td>\n",
       "      <td>0</td>\n",
       "      <td>Normal</td>\n",
       "      <td>156</td>\n",
       "      <td>N</td>\n",
       "      <td>1.0</td>\n",
       "      <td>Flat</td>\n",
       "      <td>1</td>\n",
       "    </tr>\n",
       "    <tr>\n",
       "      <th>2</th>\n",
       "      <td>37</td>\n",
       "      <td>M</td>\n",
       "      <td>ATA</td>\n",
       "      <td>130</td>\n",
       "      <td>283</td>\n",
       "      <td>0</td>\n",
       "      <td>ST</td>\n",
       "      <td>98</td>\n",
       "      <td>N</td>\n",
       "      <td>0.0</td>\n",
       "      <td>Up</td>\n",
       "      <td>0</td>\n",
       "    </tr>\n",
       "    <tr>\n",
       "      <th>3</th>\n",
       "      <td>48</td>\n",
       "      <td>F</td>\n",
       "      <td>ASY</td>\n",
       "      <td>138</td>\n",
       "      <td>214</td>\n",
       "      <td>0</td>\n",
       "      <td>Normal</td>\n",
       "      <td>108</td>\n",
       "      <td>Y</td>\n",
       "      <td>1.5</td>\n",
       "      <td>Flat</td>\n",
       "      <td>1</td>\n",
       "    </tr>\n",
       "    <tr>\n",
       "      <th>4</th>\n",
       "      <td>54</td>\n",
       "      <td>M</td>\n",
       "      <td>NAP</td>\n",
       "      <td>150</td>\n",
       "      <td>195</td>\n",
       "      <td>0</td>\n",
       "      <td>Normal</td>\n",
       "      <td>122</td>\n",
       "      <td>N</td>\n",
       "      <td>0.0</td>\n",
       "      <td>Up</td>\n",
       "      <td>0</td>\n",
       "    </tr>\n",
       "  </tbody>\n",
       "</table>\n",
       "</div>"
      ],
      "text/plain": [
       "   Age Sex ChestPainType  RestingBP  Cholesterol  FastingBS RestingECG  MaxHR  \\\n",
       "0   40   M           ATA        140          289          0     Normal    172   \n",
       "1   49   F           NAP        160          180          0     Normal    156   \n",
       "2   37   M           ATA        130          283          0         ST     98   \n",
       "3   48   F           ASY        138          214          0     Normal    108   \n",
       "4   54   M           NAP        150          195          0     Normal    122   \n",
       "\n",
       "  ExerciseAngina  Oldpeak ST_Slope  label  \n",
       "0              N      0.0       Up      0  \n",
       "1              N      1.0     Flat      1  \n",
       "2              N      0.0       Up      0  \n",
       "3              Y      1.5     Flat      1  \n",
       "4              N      0.0       Up      0  "
      ]
     },
     "execution_count": 40,
     "metadata": {},
     "output_type": "execute_result"
    }
   ],
   "source": [
    "import pandas as pd\n",
    "\n",
    "heart_df = pd.read_csv('../data/heart.csv', sep = ',')\n",
    "heart_df.rename(columns={'HeartDisease':'label'}, inplace=True)\n",
    "\n",
    "\n",
    "heart_df.head(5)"
   ]
  },
  {
   "cell_type": "code",
   "execution_count": null,
   "id": "95bbf284",
   "metadata": {},
   "outputs": [],
   "source": []
  },
  {
   "cell_type": "markdown",
   "id": "12e3cb62",
   "metadata": {},
   "source": [
    "#### Split into train, dev and test"
   ]
  },
  {
   "cell_type": "code",
   "execution_count": 41,
   "id": "809222ad",
   "metadata": {},
   "outputs": [
    {
     "name": "stdout",
     "output_type": "stream",
     "text": [
      "Training data size: (734, 11)\n",
      "Test data size: (184, 11)\n",
      " \n",
      "(734, 11)\n",
      "(184, 11)\n"
     ]
    }
   ],
   "source": [
    "import sys\n",
    "import os\n",
    "# Adiciona o diretório acima ao PATH do Python\n",
    "sys.path.append(os.path.abspath(os.path.join('..')))\n",
    "\n",
    "from sampling.SplitData import SplitData\n",
    "\n",
    "\n",
    "splitter = SplitData(partitions = [0.8, 0.2])\n",
    "\n",
    "\n",
    "heart_df_label = heart_df.pop('label')\n",
    "\n",
    "train, train_label, test, test_label = \\\n",
    "                                    splitter.get_two_sets(heart_df, \n",
    "                                                          heart_df_label)\n",
    "\n",
    "print(train.shape)\n",
    "print(test.shape)"
   ]
  },
  {
   "cell_type": "code",
   "execution_count": null,
   "id": "e6ad2b89",
   "metadata": {},
   "outputs": [],
   "source": []
  },
  {
   "cell_type": "markdown",
   "id": "ad9ab317",
   "metadata": {},
   "source": [
    "#### Perform the transformation over the numerical and categorical variable"
   ]
  },
  {
   "cell_type": "code",
   "execution_count": 42,
   "id": "50d2e952",
   "metadata": {},
   "outputs": [
    {
     "name": "stdout",
     "output_type": "stream",
     "text": [
      "Index(['stdscaler__Age', 'stdscaler__RestingBP', 'stdscaler__Cholesterol',\n",
      "       'stdscaler__FastingBS', 'stdscaler__MaxHR', 'stdscaler__Oldpeak',\n",
      "       'ohe__Sex_F', 'ohe__Sex_M', 'ohe__ChestPainType_ASY',\n",
      "       'ohe__ChestPainType_ATA', 'ohe__ChestPainType_NAP',\n",
      "       'ohe__ChestPainType_TA', 'ohe__RestingECG_LVH',\n",
      "       'ohe__RestingECG_Normal', 'ohe__RestingECG_ST', 'ohe__ExerciseAngina_N',\n",
      "       'ohe__ExerciseAngina_Y', 'ohe__ST_Slope_Down', 'ohe__ST_Slope_Flat',\n",
      "       'ohe__ST_Slope_Up'],\n",
      "      dtype='object')\n",
      "(734, 20)\n",
      "Index(['stdscaler__Age', 'stdscaler__RestingBP', 'stdscaler__Cholesterol',\n",
      "       'stdscaler__FastingBS', 'stdscaler__MaxHR', 'stdscaler__Oldpeak',\n",
      "       'ohe__Sex_F', 'ohe__Sex_M', 'ohe__ChestPainType_ASY',\n",
      "       'ohe__ChestPainType_ATA', 'ohe__ChestPainType_NAP',\n",
      "       'ohe__ChestPainType_TA', 'ohe__RestingECG_LVH',\n",
      "       'ohe__RestingECG_Normal', 'ohe__RestingECG_ST', 'ohe__ExerciseAngina_N',\n",
      "       'ohe__ExerciseAngina_Y', 'ohe__ST_Slope_Down', 'ohe__ST_Slope_Flat',\n",
      "       'ohe__ST_Slope_Up'],\n",
      "      dtype='object')\n",
      "(184, 20)\n"
     ]
    }
   ],
   "source": [
    "from sklearn.preprocessing import StandardScaler\n",
    "from sklearn.compose import ColumnTransformer\n",
    "from sklearn.preprocessing import OneHotEncoder\n",
    "import pandas as pd\n",
    "import numpy as np\n",
    "\n",
    "std_scaler_obj = StandardScaler()\n",
    "ohe_obj = OneHotEncoder(sparse_output = False, \n",
    "                        handle_unknown = 'ignore')\n",
    "\n",
    "# Lista das colunas categóricas\n",
    "train_num = train.select_dtypes(include=[np.number])\n",
    "num_cols = train_num.columns\n",
    "\n",
    "# Lista das colunas categóricas\n",
    "train_cat = train.select_dtypes(include=['object'])\n",
    "cat_cols = train_cat.columns\n",
    "\n",
    "\n",
    "# Criar o transformador\n",
    "preprocessor = ColumnTransformer(\n",
    "    transformers = [\n",
    "                     ('stdscaler', std_scaler_obj, num_cols) \n",
    "                    ,('ohe', ohe_obj, cat_cols)\n",
    "                    ],\n",
    "    remainder = 'drop'  # Mantém as colunas não transformadas\n",
    ")\n",
    "\n",
    "\n",
    "train_transf_output = pd.DataFrame(\n",
    "                             preprocessor.fit_transform(train) \n",
    "                            ,columns = preprocessor.get_feature_names_out()\n",
    "                            ,index=train.index\n",
    "                         )\n",
    "\n",
    "test_transf_output = pd.DataFrame(\n",
    "                             preprocessor.transform(test) \n",
    "                            ,columns = preprocessor.get_feature_names_out()\n",
    "                            ,index=test.index\n",
    "                         )\n",
    "\n",
    "\n",
    "print(train_transf_output.columns)\n",
    "print(train_transf_output.shape)\n",
    "\n",
    "print(test_transf_output.columns)\n",
    "print(test_transf_output.shape)"
   ]
  },
  {
   "cell_type": "code",
   "execution_count": null,
   "id": "c6049302",
   "metadata": {},
   "outputs": [],
   "source": []
  },
  {
   "cell_type": "markdown",
   "id": "c5cfc20e",
   "metadata": {},
   "source": [
    "#### Save the transformed dataset predictors"
   ]
  },
  {
   "cell_type": "code",
   "execution_count": 43,
   "id": "bf62aab1",
   "metadata": {},
   "outputs": [],
   "source": [
    "\n",
    "train_transf_output.to_csv('../data/train_transformed.csv', sep = ';', index = True)\n",
    "test_transf_output.to_csv('../data/test_transformed.csv', sep = ';', index = True)\n"
   ]
  },
  {
   "cell_type": "code",
   "execution_count": null,
   "id": "f194855e",
   "metadata": {},
   "outputs": [],
   "source": []
  },
  {
   "cell_type": "markdown",
   "id": "fbfbfd6b",
   "metadata": {},
   "source": [
    "#### Save the transformed dataset labels"
   ]
  },
  {
   "cell_type": "code",
   "execution_count": 44,
   "id": "bc642752",
   "metadata": {},
   "outputs": [],
   "source": [
    "\n",
    "train_label_df = pd.DataFrame(\n",
    "                             train_label\n",
    "                            ,index=train_label.index\n",
    "                         )\n",
    "\n",
    "test_label_df = pd.DataFrame(\n",
    "                             test_label\n",
    "                            ,index=test_label.index\n",
    "                         )\n",
    "\n",
    "\n",
    "\n",
    "train_label_df.to_csv('../data/train_label_df.csv', sep = ';', index = True)\n",
    "test_label_df.to_csv('../data/test_label_df.csv', sep = ';', index = True)\n",
    "\n"
   ]
  },
  {
   "cell_type": "code",
   "execution_count": null,
   "id": "e6276209",
   "metadata": {},
   "outputs": [],
   "source": []
  },
  {
   "cell_type": "code",
   "execution_count": null,
   "id": "0bb0e71f",
   "metadata": {},
   "outputs": [],
   "source": []
  }
 ],
 "metadata": {
  "kernelspec": {
   "display_name": "Python 3",
   "language": "python",
   "name": "python3"
  },
  "language_info": {
   "codemirror_mode": {
    "name": "ipython",
    "version": 3
   },
   "file_extension": ".py",
   "mimetype": "text/x-python",
   "name": "python",
   "nbconvert_exporter": "python",
   "pygments_lexer": "ipython3",
   "version": "3.11.11"
  }
 },
 "nbformat": 4,
 "nbformat_minor": 5
}

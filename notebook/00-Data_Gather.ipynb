{
 "cells": [
  {
   "cell_type": "markdown",
   "id": "db74ef38",
   "metadata": {},
   "source": [
    "# Data Gather from Kaggle"
   ]
  },
  {
   "cell_type": "code",
   "execution_count": 2,
   "id": "ae60f467",
   "metadata": {},
   "outputs": [
    {
     "name": "stdout",
     "output_type": "stream",
     "text": [
      "Baixando dataset fedesoriano/heart-failure-prediction...\n",
      "Dataset URL: https://www.kaggle.com/datasets/fedesoriano/heart-failure-prediction\n",
      "Download completo!\n",
      "\n",
      "Arquivos baixados:\n",
      "- heart.csv\n",
      "- test_label_df.csv\n",
      "- test_label_FE.csv\n",
      "- test_label_predictors_FE.csv\n",
      "- test_predictors_FE.csv\n",
      "- test_transformed.csv\n",
      "- train_label_df.csv\n",
      "- train_label_FE.csv\n",
      "- train_label_predictors_FE.csv\n",
      "- train_predictors_FE.csv\n",
      "- train_transformed.csv\n"
     ]
    }
   ],
   "source": [
    "from dotenv import load_dotenv, find_dotenv\n",
    "import os\n",
    "import sys \n",
    "\n",
    "_ = load_dotenv(find_dotenv())\n",
    "\n",
    "\n",
    "kaggle_usrname = os.environ[\"KAGGLE_USERNAME\"]\n",
    "kaggle_key = os.environ[\"KAGGLE_KEY\"]\n",
    "project_path = os.environ[\"PROJECT_ABS_PATH\"]\n",
    "\n",
    "sys.path.append(os.path.abspath(os.path.join(project_path)))\n",
    "\n",
    "\n",
    "from src.data_acess.DataRetrieverFactory import DataRetrieverFactory\n",
    "from src.data_acess.KaggleRetrieverStrategy import KaggleRetrieverStrategy\n",
    "\n",
    "\n",
    "dataset_name = \"fedesoriano/heart-failure-prediction\"\n",
    "save_path = r\"\"\"../data/\"\"\"\n",
    "\n",
    "\n",
    "data_retriever = DataRetrieverFactory(KaggleRetrieverStrategy())\n",
    "data_retriever.get_data(dataset_name = dataset_name, \n",
    "                        save_path = save_path)"
   ]
  },
  {
   "cell_type": "code",
   "execution_count": null,
   "id": "4bff0a7d",
   "metadata": {},
   "outputs": [],
   "source": []
  },
  {
   "cell_type": "code",
   "execution_count": null,
   "id": "83f51788",
   "metadata": {},
   "outputs": [],
   "source": []
  }
 ],
 "metadata": {
  "kernelspec": {
   "display_name": "Python 3",
   "language": "python",
   "name": "python3"
  },
  "language_info": {
   "codemirror_mode": {
    "name": "ipython",
    "version": 3
   },
   "file_extension": ".py",
   "mimetype": "text/x-python",
   "name": "python",
   "nbconvert_exporter": "python",
   "pygments_lexer": "ipython3",
   "version": "3.11.11"
  }
 },
 "nbformat": 4,
 "nbformat_minor": 5
}

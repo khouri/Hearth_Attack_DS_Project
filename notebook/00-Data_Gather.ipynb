{
 "cells": [
  {
   "cell_type": "markdown",
   "id": "db74ef38",
   "metadata": {},
   "source": [
    "# Data Gather from Kaggle"
   ]
  },
  {
   "cell_type": "code",
   "execution_count": 9,
   "id": "bb19233a",
   "metadata": {},
   "outputs": [
    {
     "name": "stdout",
     "output_type": "stream",
     "text": [
      "adilsonkhouri\n",
      "20a466540b3d61fc6dd1c70f62bb90ec\n"
     ]
    }
   ],
   "source": [
    "from dotenv import load_dotenv, find_dotenv\n",
    "import os\n",
    "\n",
    "_ = load_dotenv(find_dotenv())\n",
    "\n",
    "kaggle_usrname = os.environ[\"KAGGLE_USERNAME\"]\n",
    "kaggle_key = os.environ[\"KAGGLE_KEY\"]\n",
    "\n",
    "print(kaggle_usrname)\n",
    "print(kaggle_key)\n",
    "\n"
   ]
  },
  {
   "cell_type": "code",
   "execution_count": 10,
   "id": "ae60f467",
   "metadata": {},
   "outputs": [
    {
     "name": "stdout",
     "output_type": "stream",
     "text": [
      "Baixando dataset fedesoriano/heart-failure-prediction...\n",
      "Dataset URL: https://www.kaggle.com/datasets/fedesoriano/heart-failure-prediction\n",
      "Download completo!\n",
      "\n",
      "Arquivos baixados:\n",
      "- heart.csv\n"
     ]
    }
   ],
   "source": [
    "from kaggle.api.kaggle_api_extended import KaggleApi\n",
    "import zipfile\n",
    "import pandas as pd\n",
    "\n",
    "\n",
    "import sys\n",
    "import os\n",
    "# Adiciona o diretório acima ao PATH do Python\n",
    "sys.path.append(os.path.abspath(os.path.join('..')))\n",
    "\n",
    "from data_acess.DataRetrieverFactory import DataRetrieverFactory\n",
    "from data_acess.KaggleRetrieverStrategy import KaggleRetrieverStrategy\n",
    "\n",
    "\n",
    "dataset_name = \"fedesoriano/heart-failure-prediction\"\n",
    "save_path = r\"\"\"../data/hearth2/\"\"\"\n",
    "\n",
    "\n",
    "data_retriever = DataRetrieverFactory(KaggleRetrieverStrategy())\n",
    "data_retriever.get_data(dataset_name = dataset_name, \n",
    "                        save_path = save_path)"
   ]
  },
  {
   "cell_type": "code",
   "execution_count": null,
   "id": "4bff0a7d",
   "metadata": {},
   "outputs": [],
   "source": []
  },
  {
   "cell_type": "code",
   "execution_count": null,
   "id": "83f51788",
   "metadata": {},
   "outputs": [],
   "source": []
  }
 ],
 "metadata": {
  "kernelspec": {
   "display_name": "Python 3",
   "language": "python",
   "name": "python3"
  },
  "language_info": {
   "codemirror_mode": {
    "name": "ipython",
    "version": 3
   },
   "file_extension": ".py",
   "mimetype": "text/x-python",
   "name": "python",
   "nbconvert_exporter": "python",
   "pygments_lexer": "ipython3",
   "version": "3.11.11"
  }
 },
 "nbformat": 4,
 "nbformat_minor": 5
}

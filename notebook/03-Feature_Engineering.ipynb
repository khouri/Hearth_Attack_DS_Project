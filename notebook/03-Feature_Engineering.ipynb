{
 "cells": [
  {
   "cell_type": "markdown",
   "id": "db74ef38",
   "metadata": {},
   "source": [
    "# Feature Engineering"
   ]
  },
  {
   "cell_type": "markdown",
   "id": "2e2ae50f",
   "metadata": {},
   "source": [
    "#### Read the transformed data"
   ]
  },
  {
   "cell_type": "code",
   "execution_count": 8,
   "id": "63de785b",
   "metadata": {},
   "outputs": [],
   "source": [
    "import pandas as pd\n",
    "\n",
    "train_predictors = pd.read_csv('../data/train_transformed.csv', sep = ';', index_col=0)\n",
    "test_predictors = pd.read_csv('../data/test_transformed.csv', sep = ';', index_col=0)\n",
    "train_label = pd.read_csv('../data/train_label_df.csv', sep = ';', index_col=0)\n",
    "test_label = pd.read_csv('../data/test_label_df.csv', sep = ';', index_col=0)\n"
   ]
  },
  {
   "cell_type": "code",
   "execution_count": null,
   "id": "26571426",
   "metadata": {},
   "outputs": [],
   "source": []
  },
  {
   "cell_type": "markdown",
   "id": "8c974572",
   "metadata": {},
   "source": [
    "#### save the datasets with the feature engineered"
   ]
  },
  {
   "cell_type": "code",
   "execution_count": 9,
   "id": "d999f0c4",
   "metadata": {},
   "outputs": [],
   "source": [
    "train_predictors.to_csv('../data/train_predictors_FE.csv', sep = ';', index = True)\n",
    "test_predictors.to_csv('../data/test_predictors_FE.csv', sep = ';', index = True)\n",
    "train_label.to_csv('../data/train_label_FE.csv', sep = ';', index = True)\n",
    "test_label.to_csv('../data/test_label_FE.csv', sep = ';', index = True)\n",
    "\n",
    "\n"
   ]
  },
  {
   "cell_type": "code",
   "execution_count": null,
   "id": "70a247b8",
   "metadata": {},
   "outputs": [],
   "source": []
  },
  {
   "cell_type": "code",
   "execution_count": null,
   "id": "47120048",
   "metadata": {},
   "outputs": [],
   "source": []
  }
 ],
 "metadata": {
  "kernelspec": {
   "display_name": "Python 3",
   "language": "python",
   "name": "python3"
  },
  "language_info": {
   "codemirror_mode": {
    "name": "ipython",
    "version": 3
   },
   "file_extension": ".py",
   "mimetype": "text/x-python",
   "name": "python",
   "nbconvert_exporter": "python",
   "pygments_lexer": "ipython3",
   "version": "3.11.11"
  }
 },
 "nbformat": 4,
 "nbformat_minor": 5
}
